{
 "cells": [
  {
   "cell_type": "code",
   "execution_count": 19,
   "metadata": {},
   "outputs": [],
   "source": [
    "text=\"This is my test text. We're keeping this text short to keep things manageable.\""
   ]
  },
  {
   "cell_type": "code",
   "execution_count": 20,
   "metadata": {},
   "outputs": [],
   "source": [
    "def count_letters(text):\n",
    "    letter_counts=dict()\n",
    "    for i in text:\n",
    "        if(i in letter_counts):\n",
    "            letter_counts[i]+=1\n",
    "        else:\n",
    "            letter_counts[i]=1\n",
    "    return letter_counts"
   ]
  },
  {
   "cell_type": "code",
   "execution_count": 21,
   "metadata": {},
   "outputs": [
    {
     "data": {
      "text/plain": [
       "{'T': 1,\n",
       " 'h': 4,\n",
       " 'i': 5,\n",
       " 's': 6,\n",
       " ' ': 13,\n",
       " 'm': 2,\n",
       " 'y': 1,\n",
       " 't': 10,\n",
       " 'e': 11,\n",
       " 'x': 2,\n",
       " '.': 2,\n",
       " 'W': 1,\n",
       " \"'\": 1,\n",
       " 'r': 2,\n",
       " 'k': 2,\n",
       " 'p': 2,\n",
       " 'n': 3,\n",
       " 'g': 3,\n",
       " 'o': 2,\n",
       " 'a': 3,\n",
       " 'b': 1,\n",
       " 'l': 1}"
      ]
     },
     "execution_count": 21,
     "metadata": {},
     "output_type": "execute_result"
    }
   ],
   "source": [
    "count_letters(text)"
   ]
  },
  {
   "cell_type": "code",
   "execution_count": 22,
   "metadata": {},
   "outputs": [],
   "source": [
    "def count_words(text):\n",
    "    \"\"\"Returns a dictionary\"\"\"\n",
    "    word_counts=dict()\n",
    "    for k in text.split(\" \"):\n",
    "        if(k in word_counts):\n",
    "            word_counts[k]+=1\n",
    "        else:\n",
    "            word_counts[k]=1\n",
    "    return word_counts"
   ]
  },
  {
   "cell_type": "code",
   "execution_count": 23,
   "metadata": {},
   "outputs": [
    {
     "data": {
      "text/plain": [
       "{'This': 1,\n",
       " 'is': 1,\n",
       " 'my': 1,\n",
       " 'test': 1,\n",
       " 'text.': 1,\n",
       " \"We're\": 1,\n",
       " 'keeping': 1,\n",
       " 'this': 1,\n",
       " 'text': 1,\n",
       " 'short': 1,\n",
       " 'to': 1,\n",
       " 'keep': 1,\n",
       " 'things': 1,\n",
       " 'manageable.': 1}"
      ]
     },
     "execution_count": 23,
     "metadata": {},
     "output_type": "execute_result"
    }
   ],
   "source": [
    "count_words(text)"
   ]
  },
  {
   "cell_type": "code",
   "execution_count": 24,
   "metadata": {},
   "outputs": [],
   "source": [
    "def count_words(text):\n",
    "    \"\"\"Returns a dictionary\"\"\"\n",
    "    text=text.lower()\n",
    "    skips=[\",\",\".\",\":\",\";\",\"'\",'\"']\n",
    "    for t in skips:\n",
    "        text= text.replace(t,\"\")\n",
    "    word_counts=dict()\n",
    "    for k in text.split(\" \"):\n",
    "        if(k in word_counts):\n",
    "            word_counts[k]+=1\n",
    "        else:\n",
    "            word_counts[k]=1\n",
    "    return word_counts"
   ]
  },
  {
   "cell_type": "code",
   "execution_count": 25,
   "metadata": {},
   "outputs": [
    {
     "data": {
      "text/plain": [
       "{'this': 2,\n",
       " 'is': 1,\n",
       " 'my': 1,\n",
       " 'test': 1,\n",
       " 'text': 2,\n",
       " 'were': 1,\n",
       " 'keeping': 1,\n",
       " 'short': 1,\n",
       " 'to': 1,\n",
       " 'keep': 1,\n",
       " 'things': 1,\n",
       " 'manageable': 1}"
      ]
     },
     "execution_count": 25,
     "metadata": {},
     "output_type": "execute_result"
    }
   ],
   "source": [
    "count_words(text)"
   ]
  },
  {
   "cell_type": "code",
   "execution_count": 26,
   "metadata": {},
   "outputs": [],
   "source": [
    "from collections import Counter\n",
    "def fcount_words(text): #uses collections library counter to gain results more efficiently\n",
    "    \"\"\"Returns a dictionary faster\"\"\"\n",
    "    text=text.lower()\n",
    "    skips=[\",\",\".\",\":\",\";\",\"'\",'\"']\n",
    "    for t in skips:\n",
    "        text= text.replace(t,\"\")\n",
    "        \n",
    "    word_counts=Counter(text.split(\" \"))\n",
    "    \n",
    "    return word_counts"
   ]
  },
  {
   "cell_type": "code",
   "execution_count": 27,
   "metadata": {},
   "outputs": [
    {
     "data": {
      "text/plain": [
       "Counter({'this': 2,\n",
       "         'is': 1,\n",
       "         'my': 1,\n",
       "         'test': 1,\n",
       "         'text': 2,\n",
       "         'were': 1,\n",
       "         'keeping': 1,\n",
       "         'short': 1,\n",
       "         'to': 1,\n",
       "         'keep': 1,\n",
       "         'things': 1,\n",
       "         'manageable': 1})"
      ]
     },
     "execution_count": 27,
     "metadata": {},
     "output_type": "execute_result"
    }
   ],
   "source": [
    "fcount_words(text)"
   ]
  },
  {
   "cell_type": "code",
   "execution_count": 28,
   "metadata": {},
   "outputs": [
    {
     "data": {
      "text/plain": [
       "True"
      ]
     },
     "execution_count": 28,
     "metadata": {},
     "output_type": "execute_result"
    }
   ],
   "source": [
    "count_words(text)==fcount_words(text)"
   ]
  },
  {
   "cell_type": "code",
   "execution_count": 29,
   "metadata": {},
   "outputs": [
    {
     "data": {
      "text/plain": [
       "6"
      ]
     },
     "execution_count": 29,
     "metadata": {},
     "output_type": "execute_result"
    }
   ],
   "source": [
    "len(count_words(\"This comprehension check is to check for comprehension.\"))"
   ]
  },
  {
   "cell_type": "code",
   "execution_count": 30,
   "metadata": {},
   "outputs": [
    {
     "data": {
      "text/plain": [
       "False"
      ]
     },
     "execution_count": 30,
     "metadata": {},
     "output_type": "execute_result"
    }
   ],
   "source": [
    "count_words(text) is fcount_words(text)"
   ]
  },
  {
   "cell_type": "code",
   "execution_count": 31,
   "metadata": {},
   "outputs": [],
   "source": [
    "def read_book(title_path):\n",
    "    \"\"\"Read a book and return it as a string\"\"\"\n",
    "    with open(title_path, \"r\", encoding='utf8') as current_file:\n",
    "        text=current_file.read()\n",
    "        text= text.replace(\"\\n\", \"\").replace(\"\\r\",\"\")\n",
    "    return text"
   ]
  },
  {
   "cell_type": "code",
   "execution_count": 32,
   "metadata": {},
   "outputs": [],
   "source": [
    "def word_stats(word_counts):\n",
    "    \"\"\"Returns number of unique words and word frequencies\"\"\"\n",
    "    num_unique=len(word_counts)\n",
    "    counts=word_counts.values()\n",
    "    return (num_unique, counts)"
   ]
  },
  {
   "cell_type": "code",
   "execution_count": 33,
   "metadata": {},
   "outputs": [],
   "source": [
    "(num_unique, counts)=word_stats(fcount_words(text))"
   ]
  },
  {
   "cell_type": "code",
   "execution_count": 34,
   "metadata": {},
   "outputs": [
    {
     "data": {
      "text/plain": [
       "12"
      ]
     },
     "execution_count": 34,
     "metadata": {},
     "output_type": "execute_result"
    }
   ],
   "source": [
    "num_unique"
   ]
  },
  {
   "cell_type": "code",
   "execution_count": 35,
   "metadata": {},
   "outputs": [
    {
     "data": {
      "text/plain": [
       "dict_values([2, 1, 1, 1, 2, 1, 1, 1, 1, 1, 1, 1])"
      ]
     },
     "execution_count": 35,
     "metadata": {},
     "output_type": "execute_result"
    }
   ],
   "source": [
    "counts"
   ]
  },
  {
   "cell_type": "code",
   "execution_count": 36,
   "metadata": {},
   "outputs": [
    {
     "data": {
      "text/plain": [
       "14"
      ]
     },
     "execution_count": 36,
     "metadata": {},
     "output_type": "execute_result"
    }
   ],
   "source": [
    "sum(counts)"
   ]
  },
  {
   "cell_type": "code",
   "execution_count": 37,
   "metadata": {},
   "outputs": [],
   "source": [
    "text=read_book(\"Romeo and Juliet.txt\")"
   ]
  },
  {
   "cell_type": "code",
   "execution_count": 38,
   "metadata": {},
   "outputs": [],
   "source": [
    "word_counts=fcount_words(text)"
   ]
  },
  {
   "cell_type": "code",
   "execution_count": 39,
   "metadata": {},
   "outputs": [],
   "source": [
    "(num_unique, counts)=word_stats(word_counts)"
   ]
  },
  {
   "cell_type": "code",
   "execution_count": 40,
   "metadata": {},
   "outputs": [
    {
     "data": {
      "text/plain": [
       "5118"
      ]
     },
     "execution_count": 40,
     "metadata": {},
     "output_type": "execute_result"
    }
   ],
   "source": [
    "num_unique"
   ]
  },
  {
   "cell_type": "code",
   "execution_count": 41,
   "metadata": {},
   "outputs": [
    {
     "data": {
      "text/plain": [
       "40776"
      ]
     },
     "execution_count": 41,
     "metadata": {},
     "output_type": "execute_result"
    }
   ],
   "source": [
    "sum(counts)"
   ]
  },
  {
   "cell_type": "code",
   "execution_count": 42,
   "metadata": {},
   "outputs": [],
   "source": [
    "text2=read_book(\"Romeo und Julia.txt\")"
   ]
  },
  {
   "cell_type": "code",
   "execution_count": 43,
   "metadata": {},
   "outputs": [],
   "source": [
    "word_counts2=fcount_words(text2)"
   ]
  },
  {
   "cell_type": "code",
   "execution_count": 44,
   "metadata": {},
   "outputs": [],
   "source": [
    "(num_unique2, counts2)=word_stats(word_counts2)"
   ]
  },
  {
   "cell_type": "code",
   "execution_count": 45,
   "metadata": {},
   "outputs": [
    {
     "name": "stdout",
     "output_type": "stream",
     "text": [
      "7527\n",
      "20311\n"
     ]
    }
   ],
   "source": [
    "print(num_unique2)\n",
    "print(sum(counts2))"
   ]
  },
  {
   "cell_type": "code",
   "execution_count": 46,
   "metadata": {},
   "outputs": [
    {
     "data": {
      "text/plain": [
       "function"
      ]
     },
     "execution_count": 46,
     "metadata": {},
     "output_type": "execute_result"
    }
   ],
   "source": [
    "type(word_stats)"
   ]
  },
  {
   "cell_type": "code",
   "execution_count": 47,
   "metadata": {},
   "outputs": [],
   "source": [
    "import os\n",
    "book_dir=\"./Books\""
   ]
  },
  {
   "cell_type": "code",
   "execution_count": 48,
   "metadata": {},
   "outputs": [
    {
     "data": {
      "text/plain": [
       "['English', 'French', 'German', 'Portuguese']"
      ]
     },
     "execution_count": 48,
     "metadata": {},
     "output_type": "execute_result"
    }
   ],
   "source": [
    "os.listdir(book_dir)"
   ]
  },
  {
   "cell_type": "code",
   "execution_count": 49,
   "metadata": {},
   "outputs": [
    {
     "name": "stdout",
     "output_type": "stream",
     "text": [
      "./Books/English/shakespeare/A Midsummer Night's Dream.txt\n",
      "./Books/English/shakespeare/Hamlet.txt\n",
      "./Books/English/shakespeare/Macbeth.txt\n",
      "./Books/English/shakespeare/Othello.txt\n",
      "./Books/English/shakespeare/Richard III.txt\n",
      "./Books/English/shakespeare/Romeo and Juliet.txt\n",
      "./Books/English/shakespeare/The Merchant of Venice.txt\n",
      "./Books/French/chevalier/L'a╠èle de sable.txt\n",
      "./Books/French/chevalier/L'enfer et le paradis de l'autre monde.txt\n",
      "./Books/French/chevalier/La capitaine.txt\n",
      "./Books/French/chevalier/La fille des indiens rouges.txt\n",
      "./Books/French/chevalier/La fille du pirate.txt\n",
      "./Books/French/chevalier/Le chasseur noir.txt\n",
      "./Books/French/chevalier/Les derniers Iroquois.txt\n",
      "./Books/French/de Maupassant/Boule de Suif.txt\n",
      "./Books/French/de Maupassant/Claire de Lune.txt\n",
      "./Books/French/de Maupassant/Contes de la Becasse.txt\n",
      "./Books/French/de Maupassant/L'inutile beautC╠º.txt\n",
      "./Books/French/de Maupassant/La Main Gauche.txt\n",
      "./Books/French/de Maupassant/La Maison Tellier.txt\n",
      "./Books/French/de Maupassant/La petite roque.txt\n",
      "./Books/French/de Maupassant/Le Horla.txt\n",
      "./Books/French/de Maupassant/┼Æuvres comple╠Çtes de Guy de Maupassant.txt\n",
      "./Books/French/diderot/Ceci n'est pas un conte.txt\n",
      "./Books/French/diderot/Entretien d'un pa╠êre avec ses enfants.txt\n",
      "./Books/French/diderot/L'oiseau blanc.txt\n",
      "./Books/French/diderot/Les deux amis de Bourbonne.txt\n",
      "./Books/French/diderot/Regrets sur ma vieille robe de chambre.txt\n",
      "./Books/French/sand/cora.txt\n",
      "./Books/French/sand/Jacques le fataliste et son maa╠ètre.txt\n",
      "./Books/French/sand/L' Orco.txt\n",
      "./Books/French/sand/La Coupe; Lupo Liverani; Le Toast; Garnier; Le Contrebandier; La Ra╠Çverie O╠ê Paris.txt\n",
      "./Books/French/sand/La Marquise.txt\n",
      "./Books/French/sand/Le Piccinino.txt\n",
      "./Books/French/sand/Le poa╠éme de Myrza.txt\n",
      "./Books/French/sand/Mattea.txt\n",
      "./Books/French/sand/Metella.txt\n",
      "./Books/French/sand/Oeuvres illustrC╠ºes de George Sand.txt\n",
      "./Books/French/sand/Pauline.txt\n",
      "./Books/German/lessing/der freigeist.txt\n",
      "./Books/German/lessing/der junge gelehrte.txt\n",
      "./Books/German/lessing/die juden.txt\n",
      "./Books/German/lessing/emilia galotti.txt\n",
      "./Books/German/lessing/hamburgische dramaturgie.txt\n",
      "./Books/German/lessing/minna von barnhelm.txt\n",
      "./Books/German/lessing/miss sara sampson.txt\n",
      "./Books/German/lessing/philotas.txt\n",
      "./Books/German/raimund/Das MN╠âdchen aus der Feenwelt.txt\n",
      "./Books/German/raimund/Der Alpenki╠énig und der Menschenfeind.txt\n",
      "./Books/German/raimund/Der Barometermacher auf der Zauberinsel.txt\n",
      "./Books/German/raimund/Der Diamant des Geisterki╠énigs.txt\n",
      "./Books/German/raimund/Der Verschwender.txt\n",
      "./Books/German/raimund/Die gefesselte Phantasie.txt\n",
      "./Books/German/raimund/Die unheilbringende Krone.txt\n",
      "./Books/German/raimund/Moisasurs Zauberfluch.txt\n",
      "./Books/German/schiller/Der Neffe als Onkel.txt\n",
      "./Books/German/schiller/Der Parasit, oder die Kunst, sein GlA╠èck zu machen.txt\n",
      "./Books/German/schiller/die braut von messina.txt\n",
      "./Books/German/schiller/Die Huldigung der KA╠ènste.txt\n",
      "./Books/German/schiller/Die Jungfrau von Orleans.txt\n",
      "./Books/German/schiller/Die Piccolomini.txt\n",
      "./Books/German/schiller/Die Verschwi╠érung des Fiesco zu Genua.txt\n",
      "./Books/German/schiller/Kabale und Liebe.txt\n",
      "./Books/German/schiller/Turandot, Prinzessin von China.txt\n",
      "./Books/German/schiller/Wallensteins Lager.txt\n",
      "./Books/German/schiller/Wallensteins Tod.txt\n",
      "./Books/German/shakespeare/Der Kaufmann von Venedig.txt\n",
      "./Books/German/shakespeare/Ein Sommernachtstraum.txt\n",
      "./Books/German/shakespeare/Hamlet.txt\n",
      "./Books/German/shakespeare/Macbeth.txt\n",
      "./Books/German/shakespeare/Othello.txt\n",
      "./Books/German/shakespeare/Richard III.txt\n",
      "./Books/German/shakespeare/Romeo und Julia.txt\n",
      "./Books/Portuguese/branco/A Filha do Arcediago.txt\n",
      "./Books/Portuguese/branco/A Neta do Arcediago.txt\n",
      "./Books/Portuguese/branco/A Queda d'um Anjo.txt\n",
      "./Books/Portuguese/branco/Agulha em Palheiro.txt\n",
      "./Books/Portuguese/branco/Amor de Perdic╠ºa╠âo.txt\n",
      "./Books/Portuguese/branco/Amor de Salvac╠ºa╠âo.txt\n",
      "./Books/Portuguese/branco/Annos de Prosa.txt\n",
      "./Books/Portuguese/branco/Carlota Angela.txt\n",
      "./Books/Portuguese/branco/Estrellas Funestas.txt\n",
      "./Books/Portuguese/branco/Estrellas Prop┬░cias.txt\n",
      "./Books/Portuguese/branco/Lagrimas Abena╠üoadas.txt\n",
      "./Books/Portuguese/branco/Livro de Consolac╠ºa╠âo.txt\n",
      "./Books/Portuguese/branco/O Olho de Vidro.txt\n",
      "./Books/Portuguese/branco/O que fazem mulheres.txt\n",
      "./Books/Portuguese/branco/O Regicida.txt\n",
      "./Books/Portuguese/branco/Scenas Contemporaneas.txt\n",
      "./Books/Portuguese/dinis/A Morgadinha dos Cannaviaes.txt\n",
      "./Books/Portuguese/dinis/Os fidalgos da Casa Mourisca.txt\n",
      "./Books/Portuguese/dinis/Uma fam┬░lia ingleza.txt\n",
      "./Books/Portuguese/Queir┬ós/A Cidade e as Serras.txt\n",
      "./Books/Portuguese/Queir┬ós/A corresponda╠Çncia de Fradique Mendes.txt\n",
      "./Books/Portuguese/Queir┬ós/A Illustre Casa de Ramires.txt\n",
      "./Books/Portuguese/Queir┬ós/A Rel┬░quia.txt\n",
      "./Books/Portuguese/Queir┬ós/Cartas de Inglaterra.txt\n",
      "./Books/Portuguese/Queir┬ós/O crime do padre Amaro.txt\n",
      "./Books/Portuguese/Queir┬ós/O Mandarim.txt\n",
      "./Books/Portuguese/Queir┬ós/O Primo Bazilio.txt\n",
      "./Books/Portuguese/Queir┬ós/Os Maias.txt\n",
      "./Books/Portuguese/shakespeare/Hamlet.txt\n"
     ]
    }
   ],
   "source": [
    "for language in os.listdir(book_dir): #contains a list of directories that are contained within our books directory \n",
    "    for author in os.listdir(book_dir + \"/\" + language):\n",
    "        for title in os.listdir(book_dir + \"/\" + language + \"/\" + author):\n",
    "            inputfile= book_dir + \"/\" + language + \"/\" + author + \"/\" + title\n",
    "            print(inputfile)\n",
    "            text=read_book(inputfile)\n",
    "            (num_unique, counts)=word_stats(count_words(text))"
   ]
  },
  {
   "cell_type": "code",
   "execution_count": 50,
   "metadata": {},
   "outputs": [],
   "source": [
    "import pandas as pd\n",
    "table=pd.DataFrame(columns=(\"name\",\"age\")) #two columns one of name and one of age\n",
    "table.loc[1]=\"James\", 22 #like row 1 of table\n",
    "table.loc[2]=\"Jess\", 32"
   ]
  },
  {
   "cell_type": "code",
   "execution_count": 51,
   "metadata": {},
   "outputs": [
    {
     "data": {
      "text/html": [
       "<div>\n",
       "<style scoped>\n",
       "    .dataframe tbody tr th:only-of-type {\n",
       "        vertical-align: middle;\n",
       "    }\n",
       "\n",
       "    .dataframe tbody tr th {\n",
       "        vertical-align: top;\n",
       "    }\n",
       "\n",
       "    .dataframe thead th {\n",
       "        text-align: right;\n",
       "    }\n",
       "</style>\n",
       "<table border=\"1\" class=\"dataframe\">\n",
       "  <thead>\n",
       "    <tr style=\"text-align: right;\">\n",
       "      <th></th>\n",
       "      <th>name</th>\n",
       "      <th>age</th>\n",
       "    </tr>\n",
       "  </thead>\n",
       "  <tbody>\n",
       "    <tr>\n",
       "      <th>1</th>\n",
       "      <td>James</td>\n",
       "      <td>22</td>\n",
       "    </tr>\n",
       "    <tr>\n",
       "      <th>2</th>\n",
       "      <td>Jess</td>\n",
       "      <td>32</td>\n",
       "    </tr>\n",
       "  </tbody>\n",
       "</table>\n",
       "</div>"
      ],
      "text/plain": [
       "    name age\n",
       "1  James  22\n",
       "2   Jess  32"
      ]
     },
     "execution_count": 51,
     "metadata": {},
     "output_type": "execute_result"
    }
   ],
   "source": [
    "table"
   ]
  },
  {
   "cell_type": "code",
   "execution_count": 52,
   "metadata": {},
   "outputs": [
    {
     "data": {
      "text/plain": [
       "Index(['name', 'age'], dtype='object')"
      ]
     },
     "execution_count": 52,
     "metadata": {},
     "output_type": "execute_result"
    }
   ],
   "source": [
    "table.columns"
   ]
  },
  {
   "cell_type": "code",
   "execution_count": 84,
   "metadata": {},
   "outputs": [],
   "source": [
    "stats=pd.DataFrame(columns=(\"language\", \"author\", \"title\", \"length\", \"unique\"))\n",
    "i=1\n",
    "for language in os.listdir(book_dir): #contains a list of directories that are contained within our books directory \n",
    "    for author in os.listdir(book_dir + \"/\" + language): #language is referred to as the files/folders in the above for loop. So, by adding the \"/\" the folder is opened for this loop.\n",
    "        for title in os.listdir(book_dir + \"/\" + language + \"/\" + author):\n",
    "            inputfile= book_dir + \"/\" + language + \"/\" + author + \"/\" + title\n",
    "            text=read_book(inputfile)\n",
    "            (num_unique, counts)=word_stats(count_words(text))\n",
    "            stats.loc[i]=language, author.capitalize(), title.replace(\".txt\",\"\"), sum(counts), num_unique\n",
    "            i+=1"
   ]
  },
  {
   "cell_type": "code",
   "execution_count": 66,
   "metadata": {},
   "outputs": [
    {
     "data": {
      "text/html": [
       "<div>\n",
       "<style scoped>\n",
       "    .dataframe tbody tr th:only-of-type {\n",
       "        vertical-align: middle;\n",
       "    }\n",
       "\n",
       "    .dataframe tbody tr th {\n",
       "        vertical-align: top;\n",
       "    }\n",
       "\n",
       "    .dataframe thead th {\n",
       "        text-align: right;\n",
       "    }\n",
       "</style>\n",
       "<table border=\"1\" class=\"dataframe\">\n",
       "  <thead>\n",
       "    <tr style=\"text-align: right;\">\n",
       "      <th></th>\n",
       "      <th>language</th>\n",
       "      <th>author</th>\n",
       "      <th>title</th>\n",
       "      <th>length</th>\n",
       "      <th>unique</th>\n",
       "    </tr>\n",
       "  </thead>\n",
       "  <tbody>\n",
       "    <tr>\n",
       "      <th>1</th>\n",
       "      <td>English</td>\n",
       "      <td>Shakespeare</td>\n",
       "      <td>A Midsummer Night's Dream</td>\n",
       "      <td>16103</td>\n",
       "      <td>4345</td>\n",
       "    </tr>\n",
       "    <tr>\n",
       "      <th>2</th>\n",
       "      <td>English</td>\n",
       "      <td>Shakespeare</td>\n",
       "      <td>Hamlet</td>\n",
       "      <td>28551</td>\n",
       "      <td>6776</td>\n",
       "    </tr>\n",
       "    <tr>\n",
       "      <th>3</th>\n",
       "      <td>English</td>\n",
       "      <td>Shakespeare</td>\n",
       "      <td>Macbeth</td>\n",
       "      <td>16874</td>\n",
       "      <td>4780</td>\n",
       "    </tr>\n",
       "    <tr>\n",
       "      <th>4</th>\n",
       "      <td>English</td>\n",
       "      <td>Shakespeare</td>\n",
       "      <td>Othello</td>\n",
       "      <td>26590</td>\n",
       "      <td>5898</td>\n",
       "    </tr>\n",
       "    <tr>\n",
       "      <th>5</th>\n",
       "      <td>English</td>\n",
       "      <td>Shakespeare</td>\n",
       "      <td>Richard III</td>\n",
       "      <td>48315</td>\n",
       "      <td>5449</td>\n",
       "    </tr>\n",
       "    <tr>\n",
       "      <th>...</th>\n",
       "      <td>...</td>\n",
       "      <td>...</td>\n",
       "      <td>...</td>\n",
       "      <td>...</td>\n",
       "      <td>...</td>\n",
       "    </tr>\n",
       "    <tr>\n",
       "      <th>98</th>\n",
       "      <td>Portuguese</td>\n",
       "      <td>Queir┬ós</td>\n",
       "      <td>O crime do padre Amaro</td>\n",
       "      <td>128630</td>\n",
       "      <td>29300</td>\n",
       "    </tr>\n",
       "    <tr>\n",
       "      <th>99</th>\n",
       "      <td>Portuguese</td>\n",
       "      <td>Queir┬ós</td>\n",
       "      <td>O Mandarim</td>\n",
       "      <td>21440</td>\n",
       "      <td>7836</td>\n",
       "    </tr>\n",
       "    <tr>\n",
       "      <th>100</th>\n",
       "      <td>Portuguese</td>\n",
       "      <td>Queir┬ós</td>\n",
       "      <td>O Primo Bazilio</td>\n",
       "      <td>107303</td>\n",
       "      <td>27644</td>\n",
       "    </tr>\n",
       "    <tr>\n",
       "      <th>101</th>\n",
       "      <td>Portuguese</td>\n",
       "      <td>Queir┬ós</td>\n",
       "      <td>Os Maias</td>\n",
       "      <td>195771</td>\n",
       "      <td>40665</td>\n",
       "    </tr>\n",
       "    <tr>\n",
       "      <th>102</th>\n",
       "      <td>Portuguese</td>\n",
       "      <td>Shakespeare</td>\n",
       "      <td>Hamlet</td>\n",
       "      <td>30567</td>\n",
       "      <td>9700</td>\n",
       "    </tr>\n",
       "  </tbody>\n",
       "</table>\n",
       "<p>102 rows × 5 columns</p>\n",
       "</div>"
      ],
      "text/plain": [
       "       language       author                      title  length unique\n",
       "1       English  Shakespeare  A Midsummer Night's Dream   16103   4345\n",
       "2       English  Shakespeare                     Hamlet   28551   6776\n",
       "3       English  Shakespeare                    Macbeth   16874   4780\n",
       "4       English  Shakespeare                    Othello   26590   5898\n",
       "5       English  Shakespeare                Richard III   48315   5449\n",
       "..          ...          ...                        ...     ...    ...\n",
       "98   Portuguese     Queir┬ós     O crime do padre Amaro  128630  29300\n",
       "99   Portuguese     Queir┬ós                 O Mandarim   21440   7836\n",
       "100  Portuguese     Queir┬ós            O Primo Bazilio  107303  27644\n",
       "101  Portuguese     Queir┬ós                   Os Maias  195771  40665\n",
       "102  Portuguese  Shakespeare                     Hamlet   30567   9700\n",
       "\n",
       "[102 rows x 5 columns]"
      ]
     },
     "execution_count": 66,
     "metadata": {},
     "output_type": "execute_result"
    }
   ],
   "source": [
    "stats"
   ]
  },
  {
   "cell_type": "code",
   "execution_count": 61,
   "metadata": {},
   "outputs": [
    {
     "data": {
      "text/html": [
       "<div>\n",
       "<style scoped>\n",
       "    .dataframe tbody tr th:only-of-type {\n",
       "        vertical-align: middle;\n",
       "    }\n",
       "\n",
       "    .dataframe tbody tr th {\n",
       "        vertical-align: top;\n",
       "    }\n",
       "\n",
       "    .dataframe thead th {\n",
       "        text-align: right;\n",
       "    }\n",
       "</style>\n",
       "<table border=\"1\" class=\"dataframe\">\n",
       "  <thead>\n",
       "    <tr style=\"text-align: right;\">\n",
       "      <th></th>\n",
       "      <th>language</th>\n",
       "      <th>author</th>\n",
       "      <th>title</th>\n",
       "      <th>length</th>\n",
       "      <th>unique</th>\n",
       "    </tr>\n",
       "  </thead>\n",
       "  <tbody>\n",
       "    <tr>\n",
       "      <th>1</th>\n",
       "      <td>English</td>\n",
       "      <td>shakespeare</td>\n",
       "      <td>A Midsummer Night's Dream.txt</td>\n",
       "      <td>16103</td>\n",
       "      <td>4345</td>\n",
       "    </tr>\n",
       "    <tr>\n",
       "      <th>2</th>\n",
       "      <td>English</td>\n",
       "      <td>shakespeare</td>\n",
       "      <td>Hamlet.txt</td>\n",
       "      <td>28551</td>\n",
       "      <td>6776</td>\n",
       "    </tr>\n",
       "    <tr>\n",
       "      <th>3</th>\n",
       "      <td>English</td>\n",
       "      <td>shakespeare</td>\n",
       "      <td>Macbeth.txt</td>\n",
       "      <td>16874</td>\n",
       "      <td>4780</td>\n",
       "    </tr>\n",
       "    <tr>\n",
       "      <th>4</th>\n",
       "      <td>English</td>\n",
       "      <td>shakespeare</td>\n",
       "      <td>Othello.txt</td>\n",
       "      <td>26590</td>\n",
       "      <td>5898</td>\n",
       "    </tr>\n",
       "    <tr>\n",
       "      <th>5</th>\n",
       "      <td>English</td>\n",
       "      <td>shakespeare</td>\n",
       "      <td>Richard III.txt</td>\n",
       "      <td>48315</td>\n",
       "      <td>5449</td>\n",
       "    </tr>\n",
       "  </tbody>\n",
       "</table>\n",
       "</div>"
      ],
      "text/plain": [
       "  language       author                          title length unique\n",
       "1  English  shakespeare  A Midsummer Night's Dream.txt  16103   4345\n",
       "2  English  shakespeare                     Hamlet.txt  28551   6776\n",
       "3  English  shakespeare                    Macbeth.txt  16874   4780\n",
       "4  English  shakespeare                    Othello.txt  26590   5898\n",
       "5  English  shakespeare                Richard III.txt  48315   5449"
      ]
     },
     "execution_count": 61,
     "metadata": {},
     "output_type": "execute_result"
    }
   ],
   "source": [
    "stats.head() # top 5 lines"
   ]
  },
  {
   "cell_type": "code",
   "execution_count": 62,
   "metadata": {},
   "outputs": [
    {
     "data": {
      "text/html": [
       "<div>\n",
       "<style scoped>\n",
       "    .dataframe tbody tr th:only-of-type {\n",
       "        vertical-align: middle;\n",
       "    }\n",
       "\n",
       "    .dataframe tbody tr th {\n",
       "        vertical-align: top;\n",
       "    }\n",
       "\n",
       "    .dataframe thead th {\n",
       "        text-align: right;\n",
       "    }\n",
       "</style>\n",
       "<table border=\"1\" class=\"dataframe\">\n",
       "  <thead>\n",
       "    <tr style=\"text-align: right;\">\n",
       "      <th></th>\n",
       "      <th>language</th>\n",
       "      <th>author</th>\n",
       "      <th>title</th>\n",
       "      <th>length</th>\n",
       "      <th>unique</th>\n",
       "    </tr>\n",
       "  </thead>\n",
       "  <tbody>\n",
       "    <tr>\n",
       "      <th>98</th>\n",
       "      <td>Portuguese</td>\n",
       "      <td>Queir┬ós</td>\n",
       "      <td>O crime do padre Amaro.txt</td>\n",
       "      <td>128630</td>\n",
       "      <td>29300</td>\n",
       "    </tr>\n",
       "    <tr>\n",
       "      <th>99</th>\n",
       "      <td>Portuguese</td>\n",
       "      <td>Queir┬ós</td>\n",
       "      <td>O Mandarim.txt</td>\n",
       "      <td>21440</td>\n",
       "      <td>7836</td>\n",
       "    </tr>\n",
       "    <tr>\n",
       "      <th>100</th>\n",
       "      <td>Portuguese</td>\n",
       "      <td>Queir┬ós</td>\n",
       "      <td>O Primo Bazilio.txt</td>\n",
       "      <td>107303</td>\n",
       "      <td>27644</td>\n",
       "    </tr>\n",
       "    <tr>\n",
       "      <th>101</th>\n",
       "      <td>Portuguese</td>\n",
       "      <td>Queir┬ós</td>\n",
       "      <td>Os Maias.txt</td>\n",
       "      <td>195771</td>\n",
       "      <td>40665</td>\n",
       "    </tr>\n",
       "    <tr>\n",
       "      <th>102</th>\n",
       "      <td>Portuguese</td>\n",
       "      <td>shakespeare</td>\n",
       "      <td>Hamlet.txt</td>\n",
       "      <td>30567</td>\n",
       "      <td>9700</td>\n",
       "    </tr>\n",
       "  </tbody>\n",
       "</table>\n",
       "</div>"
      ],
      "text/plain": [
       "       language       author                       title  length unique\n",
       "98   Portuguese     Queir┬ós  O crime do padre Amaro.txt  128630  29300\n",
       "99   Portuguese     Queir┬ós              O Mandarim.txt   21440   7836\n",
       "100  Portuguese     Queir┬ós         O Primo Bazilio.txt  107303  27644\n",
       "101  Portuguese     Queir┬ós                Os Maias.txt  195771  40665\n",
       "102  Portuguese  shakespeare                  Hamlet.txt   30567   9700"
      ]
     },
     "execution_count": 62,
     "metadata": {},
     "output_type": "execute_result"
    }
   ],
   "source": [
    "stats.tail() # bottom 5 lines"
   ]
  },
  {
   "cell_type": "code",
   "execution_count": 67,
   "metadata": {},
   "outputs": [
    {
     "data": {
      "text/plain": [
       "1       16103\n",
       "2       28551\n",
       "3       16874\n",
       "4       26590\n",
       "5       48315\n",
       "        ...  \n",
       "98     128630\n",
       "99      21440\n",
       "100    107303\n",
       "101    195771\n",
       "102     30567\n",
       "Name: length, Length: 102, dtype: object"
      ]
     },
     "execution_count": 67,
     "metadata": {},
     "output_type": "execute_result"
    }
   ],
   "source": [
    "stats.length"
   ]
  },
  {
   "cell_type": "code",
   "execution_count": 68,
   "metadata": {},
   "outputs": [
    {
     "data": {
      "text/plain": [
       "1       4345\n",
       "2       6776\n",
       "3       4780\n",
       "4       5898\n",
       "5       5449\n",
       "       ...  \n",
       "98     29300\n",
       "99      7836\n",
       "100    27644\n",
       "101    40665\n",
       "102     9700\n",
       "Name: unique, Length: 102, dtype: object"
      ]
     },
     "execution_count": 68,
     "metadata": {},
     "output_type": "execute_result"
    }
   ],
   "source": [
    "stats.unique"
   ]
  },
  {
   "cell_type": "code",
   "execution_count": 69,
   "metadata": {},
   "outputs": [
    {
     "data": {
      "text/plain": [
       "[<matplotlib.lines.Line2D at 0x22ca4228148>]"
      ]
     },
     "execution_count": 69,
     "metadata": {},
     "output_type": "execute_result"
    },
    {
     "data": {
      "image/png": "[encoded data removed]",
      "text/plain": [
       "<Figure size 432x288 with 1 Axes>"
      ]
     },
     "metadata": {
      "needs_background": "light"
     },
     "output_type": "display_data"
    }
   ],
   "source": [
    "import matplotlib.pyplot as plt\n",
    "plt.plot(stats.length, stats.unique, \"bo\")"
   ]
  },
  {
   "cell_type": "code",
   "execution_count": 70,
   "metadata": {},
   "outputs": [
    {
     "data": {
      "text/plain": [
       "[<matplotlib.lines.Line2D at 0x22ca5d05c88>]"
      ]
     },
     "execution_count": 70,
     "metadata": {},
     "output_type": "execute_result"
    },
    {
     "data": {
      "image/png": "[encoded data removed]",
      "text/plain": [
       "<Figure size 432x288 with 1 Axes>"
      ]
     },
     "metadata": {
      "needs_background": "light"
     },
     "output_type": "display_data"
    }
   ],
   "source": [
    "plt.loglog(stats.length, stats.unique, \"bo\")"
   ]
  },
  {
   "cell_type": "code",
   "execution_count": 72,
   "metadata": {},
   "outputs": [
    {
     "data": {
      "text/html": [
       "<div>\n",
       "<style scoped>\n",
       "    .dataframe tbody tr th:only-of-type {\n",
       "        vertical-align: middle;\n",
       "    }\n",
       "\n",
       "    .dataframe tbody tr th {\n",
       "        vertical-align: top;\n",
       "    }\n",
       "\n",
       "    .dataframe thead th {\n",
       "        text-align: right;\n",
       "    }\n",
       "</style>\n",
       "<table border=\"1\" class=\"dataframe\">\n",
       "  <thead>\n",
       "    <tr style=\"text-align: right;\">\n",
       "      <th></th>\n",
       "      <th>language</th>\n",
       "      <th>author</th>\n",
       "      <th>title</th>\n",
       "      <th>length</th>\n",
       "      <th>unique</th>\n",
       "    </tr>\n",
       "  </thead>\n",
       "  <tbody>\n",
       "    <tr>\n",
       "      <th>1</th>\n",
       "      <td>English</td>\n",
       "      <td>Shakespeare</td>\n",
       "      <td>A Midsummer Night's Dream</td>\n",
       "      <td>16103</td>\n",
       "      <td>4345</td>\n",
       "    </tr>\n",
       "    <tr>\n",
       "      <th>2</th>\n",
       "      <td>English</td>\n",
       "      <td>Shakespeare</td>\n",
       "      <td>Hamlet</td>\n",
       "      <td>28551</td>\n",
       "      <td>6776</td>\n",
       "    </tr>\n",
       "    <tr>\n",
       "      <th>3</th>\n",
       "      <td>English</td>\n",
       "      <td>Shakespeare</td>\n",
       "      <td>Macbeth</td>\n",
       "      <td>16874</td>\n",
       "      <td>4780</td>\n",
       "    </tr>\n",
       "    <tr>\n",
       "      <th>4</th>\n",
       "      <td>English</td>\n",
       "      <td>Shakespeare</td>\n",
       "      <td>Othello</td>\n",
       "      <td>26590</td>\n",
       "      <td>5898</td>\n",
       "    </tr>\n",
       "    <tr>\n",
       "      <th>5</th>\n",
       "      <td>English</td>\n",
       "      <td>Shakespeare</td>\n",
       "      <td>Richard III</td>\n",
       "      <td>48315</td>\n",
       "      <td>5449</td>\n",
       "    </tr>\n",
       "    <tr>\n",
       "      <th>6</th>\n",
       "      <td>English</td>\n",
       "      <td>Shakespeare</td>\n",
       "      <td>Romeo and Juliet</td>\n",
       "      <td>40776</td>\n",
       "      <td>5118</td>\n",
       "    </tr>\n",
       "    <tr>\n",
       "      <th>7</th>\n",
       "      <td>English</td>\n",
       "      <td>Shakespeare</td>\n",
       "      <td>The Merchant of Venice</td>\n",
       "      <td>20949</td>\n",
       "      <td>4978</td>\n",
       "    </tr>\n",
       "  </tbody>\n",
       "</table>\n",
       "</div>"
      ],
      "text/plain": [
       "  language       author                      title length unique\n",
       "1  English  Shakespeare  A Midsummer Night's Dream  16103   4345\n",
       "2  English  Shakespeare                     Hamlet  28551   6776\n",
       "3  English  Shakespeare                    Macbeth  16874   4780\n",
       "4  English  Shakespeare                    Othello  26590   5898\n",
       "5  English  Shakespeare                Richard III  48315   5449\n",
       "6  English  Shakespeare           Romeo and Juliet  40776   5118\n",
       "7  English  Shakespeare     The Merchant of Venice  20949   4978"
      ]
     },
     "execution_count": 72,
     "metadata": {},
     "output_type": "execute_result"
    }
   ],
   "source": [
    "stats[stats.language==\"English\"]"
   ]
  },
  {
   "cell_type": "code",
   "execution_count": 86,
   "metadata": {},
   "outputs": [
    {
     "data": {
      "text/plain": [
       "1       True\n",
       "2       True\n",
       "3       True\n",
       "4       True\n",
       "5       True\n",
       "       ...  \n",
       "98     False\n",
       "99     False\n",
       "100    False\n",
       "101    False\n",
       "102    False\n",
       "Name: language, Length: 102, dtype: bool"
      ]
     },
     "execution_count": 86,
     "metadata": {},
     "output_type": "execute_result"
    }
   ],
   "source": [
    "stats.language==\"English\""
   ]
  },
  {
   "cell_type": "code",
   "execution_count": 73,
   "metadata": {},
   "outputs": [
    {
     "data": {
      "text/html": [
       "<div>\n",
       "<style scoped>\n",
       "    .dataframe tbody tr th:only-of-type {\n",
       "        vertical-align: middle;\n",
       "    }\n",
       "\n",
       "    .dataframe tbody tr th {\n",
       "        vertical-align: top;\n",
       "    }\n",
       "\n",
       "    .dataframe thead th {\n",
       "        text-align: right;\n",
       "    }\n",
       "</style>\n",
       "<table border=\"1\" class=\"dataframe\">\n",
       "  <thead>\n",
       "    <tr style=\"text-align: right;\">\n",
       "      <th></th>\n",
       "      <th>language</th>\n",
       "      <th>author</th>\n",
       "      <th>title</th>\n",
       "      <th>length</th>\n",
       "      <th>unique</th>\n",
       "    </tr>\n",
       "  </thead>\n",
       "  <tbody>\n",
       "    <tr>\n",
       "      <th>8</th>\n",
       "      <td>French</td>\n",
       "      <td>Chevalier</td>\n",
       "      <td>L'a╠èle de sable</td>\n",
       "      <td>73801</td>\n",
       "      <td>18989</td>\n",
       "    </tr>\n",
       "    <tr>\n",
       "      <th>9</th>\n",
       "      <td>French</td>\n",
       "      <td>Chevalier</td>\n",
       "      <td>L'enfer et le paradis de l'autre monde</td>\n",
       "      <td>40827</td>\n",
       "      <td>10831</td>\n",
       "    </tr>\n",
       "    <tr>\n",
       "      <th>10</th>\n",
       "      <td>French</td>\n",
       "      <td>Chevalier</td>\n",
       "      <td>La capitaine</td>\n",
       "      <td>46306</td>\n",
       "      <td>13083</td>\n",
       "    </tr>\n",
       "    <tr>\n",
       "      <th>11</th>\n",
       "      <td>French</td>\n",
       "      <td>Chevalier</td>\n",
       "      <td>La fille des indiens rouges</td>\n",
       "      <td>66621</td>\n",
       "      <td>17875</td>\n",
       "    </tr>\n",
       "    <tr>\n",
       "      <th>12</th>\n",
       "      <td>French</td>\n",
       "      <td>Chevalier</td>\n",
       "      <td>La fille du pirate</td>\n",
       "      <td>52519</td>\n",
       "      <td>14649</td>\n",
       "    </tr>\n",
       "    <tr>\n",
       "      <th>13</th>\n",
       "      <td>French</td>\n",
       "      <td>Chevalier</td>\n",
       "      <td>Le chasseur noir</td>\n",
       "      <td>51341</td>\n",
       "      <td>12945</td>\n",
       "    </tr>\n",
       "    <tr>\n",
       "      <th>14</th>\n",
       "      <td>French</td>\n",
       "      <td>Chevalier</td>\n",
       "      <td>Les derniers Iroquois</td>\n",
       "      <td>55565</td>\n",
       "      <td>15583</td>\n",
       "    </tr>\n",
       "    <tr>\n",
       "      <th>15</th>\n",
       "      <td>French</td>\n",
       "      <td>De maupassant</td>\n",
       "      <td>Boule de Suif</td>\n",
       "      <td>35905</td>\n",
       "      <td>10725</td>\n",
       "    </tr>\n",
       "    <tr>\n",
       "      <th>16</th>\n",
       "      <td>French</td>\n",
       "      <td>De maupassant</td>\n",
       "      <td>Claire de Lune</td>\n",
       "      <td>25975</td>\n",
       "      <td>8076</td>\n",
       "    </tr>\n",
       "    <tr>\n",
       "      <th>17</th>\n",
       "      <td>French</td>\n",
       "      <td>De maupassant</td>\n",
       "      <td>Contes de la Becasse</td>\n",
       "      <td>34723</td>\n",
       "      <td>10210</td>\n",
       "    </tr>\n",
       "    <tr>\n",
       "      <th>18</th>\n",
       "      <td>French</td>\n",
       "      <td>De maupassant</td>\n",
       "      <td>L'inutile beautC╠º</td>\n",
       "      <td>37840</td>\n",
       "      <td>10781</td>\n",
       "    </tr>\n",
       "    <tr>\n",
       "      <th>19</th>\n",
       "      <td>French</td>\n",
       "      <td>De maupassant</td>\n",
       "      <td>La Main Gauche</td>\n",
       "      <td>33481</td>\n",
       "      <td>9983</td>\n",
       "    </tr>\n",
       "    <tr>\n",
       "      <th>20</th>\n",
       "      <td>French</td>\n",
       "      <td>De maupassant</td>\n",
       "      <td>La Maison Tellier</td>\n",
       "      <td>43685</td>\n",
       "      <td>12305</td>\n",
       "    </tr>\n",
       "    <tr>\n",
       "      <th>21</th>\n",
       "      <td>French</td>\n",
       "      <td>De maupassant</td>\n",
       "      <td>La petite roque</td>\n",
       "      <td>40688</td>\n",
       "      <td>10890</td>\n",
       "    </tr>\n",
       "    <tr>\n",
       "      <th>22</th>\n",
       "      <td>French</td>\n",
       "      <td>De maupassant</td>\n",
       "      <td>Le Horla</td>\n",
       "      <td>41485</td>\n",
       "      <td>11091</td>\n",
       "    </tr>\n",
       "    <tr>\n",
       "      <th>23</th>\n",
       "      <td>French</td>\n",
       "      <td>De maupassant</td>\n",
       "      <td>┼Æuvres comple╠Çtes de Guy de Maupassant</td>\n",
       "      <td>54772</td>\n",
       "      <td>15028</td>\n",
       "    </tr>\n",
       "    <tr>\n",
       "      <th>24</th>\n",
       "      <td>French</td>\n",
       "      <td>Diderot</td>\n",
       "      <td>Ceci n'est pas un conte</td>\n",
       "      <td>10938</td>\n",
       "      <td>3674</td>\n",
       "    </tr>\n",
       "    <tr>\n",
       "      <th>25</th>\n",
       "      <td>French</td>\n",
       "      <td>Diderot</td>\n",
       "      <td>Entretien d'un pa╠êre avec ses enfants</td>\n",
       "      <td>11125</td>\n",
       "      <td>3720</td>\n",
       "    </tr>\n",
       "    <tr>\n",
       "      <th>26</th>\n",
       "      <td>French</td>\n",
       "      <td>Diderot</td>\n",
       "      <td>L'oiseau blanc</td>\n",
       "      <td>21973</td>\n",
       "      <td>6337</td>\n",
       "    </tr>\n",
       "    <tr>\n",
       "      <th>27</th>\n",
       "      <td>French</td>\n",
       "      <td>Diderot</td>\n",
       "      <td>Les deux amis de Bourbonne</td>\n",
       "      <td>8510</td>\n",
       "      <td>2929</td>\n",
       "    </tr>\n",
       "    <tr>\n",
       "      <th>28</th>\n",
       "      <td>French</td>\n",
       "      <td>Diderot</td>\n",
       "      <td>Regrets sur ma vieille robe de chambre</td>\n",
       "      <td>4980</td>\n",
       "      <td>1876</td>\n",
       "    </tr>\n",
       "    <tr>\n",
       "      <th>29</th>\n",
       "      <td>French</td>\n",
       "      <td>Sand</td>\n",
       "      <td>cora</td>\n",
       "      <td>12370</td>\n",
       "      <td>4370</td>\n",
       "    </tr>\n",
       "    <tr>\n",
       "      <th>30</th>\n",
       "      <td>French</td>\n",
       "      <td>Sand</td>\n",
       "      <td>Jacques le fataliste et son maa╠ètre</td>\n",
       "      <td>85756</td>\n",
       "      <td>18744</td>\n",
       "    </tr>\n",
       "    <tr>\n",
       "      <th>31</th>\n",
       "      <td>French</td>\n",
       "      <td>Sand</td>\n",
       "      <td>L' Orco</td>\n",
       "      <td>8748</td>\n",
       "      <td>3162</td>\n",
       "    </tr>\n",
       "    <tr>\n",
       "      <th>32</th>\n",
       "      <td>French</td>\n",
       "      <td>Sand</td>\n",
       "      <td>La Coupe; Lupo Liverani; Le Toast; Garnier; Le...</td>\n",
       "      <td>47831</td>\n",
       "      <td>12540</td>\n",
       "    </tr>\n",
       "    <tr>\n",
       "      <th>33</th>\n",
       "      <td>French</td>\n",
       "      <td>Sand</td>\n",
       "      <td>La Marquise</td>\n",
       "      <td>14716</td>\n",
       "      <td>4786</td>\n",
       "    </tr>\n",
       "    <tr>\n",
       "      <th>34</th>\n",
       "      <td>French</td>\n",
       "      <td>Sand</td>\n",
       "      <td>Le Piccinino</td>\n",
       "      <td>151405</td>\n",
       "      <td>27435</td>\n",
       "    </tr>\n",
       "    <tr>\n",
       "      <th>35</th>\n",
       "      <td>French</td>\n",
       "      <td>Sand</td>\n",
       "      <td>Le poa╠éme de Myrza</td>\n",
       "      <td>12771</td>\n",
       "      <td>4348</td>\n",
       "    </tr>\n",
       "    <tr>\n",
       "      <th>36</th>\n",
       "      <td>French</td>\n",
       "      <td>Sand</td>\n",
       "      <td>Mattea</td>\n",
       "      <td>21089</td>\n",
       "      <td>6429</td>\n",
       "    </tr>\n",
       "    <tr>\n",
       "      <th>37</th>\n",
       "      <td>French</td>\n",
       "      <td>Sand</td>\n",
       "      <td>Metella</td>\n",
       "      <td>19600</td>\n",
       "      <td>5715</td>\n",
       "    </tr>\n",
       "    <tr>\n",
       "      <th>38</th>\n",
       "      <td>French</td>\n",
       "      <td>Sand</td>\n",
       "      <td>Oeuvres illustrC╠ºes de George Sand</td>\n",
       "      <td>23210</td>\n",
       "      <td>7503</td>\n",
       "    </tr>\n",
       "    <tr>\n",
       "      <th>39</th>\n",
       "      <td>French</td>\n",
       "      <td>Sand</td>\n",
       "      <td>Pauline</td>\n",
       "      <td>27486</td>\n",
       "      <td>7901</td>\n",
       "    </tr>\n",
       "  </tbody>\n",
       "</table>\n",
       "</div>"
      ],
      "text/plain": [
       "   language         author                                              title  \\\n",
       "8    French      Chevalier                                   L'a╠èle de sable   \n",
       "9    French      Chevalier             L'enfer et le paradis de l'autre monde   \n",
       "10   French      Chevalier                                       La capitaine   \n",
       "11   French      Chevalier                        La fille des indiens rouges   \n",
       "12   French      Chevalier                                 La fille du pirate   \n",
       "13   French      Chevalier                                   Le chasseur noir   \n",
       "14   French      Chevalier                              Les derniers Iroquois   \n",
       "15   French  De maupassant                                      Boule de Suif   \n",
       "16   French  De maupassant                                     Claire de Lune   \n",
       "17   French  De maupassant                               Contes de la Becasse   \n",
       "18   French  De maupassant                                 L'inutile beautC╠º   \n",
       "19   French  De maupassant                                     La Main Gauche   \n",
       "20   French  De maupassant                                  La Maison Tellier   \n",
       "21   French  De maupassant                                    La petite roque   \n",
       "22   French  De maupassant                                           Le Horla   \n",
       "23   French  De maupassant           ┼Æuvres comple╠Çtes de Guy de Maupassant   \n",
       "24   French        Diderot                            Ceci n'est pas un conte   \n",
       "25   French        Diderot             Entretien d'un pa╠êre avec ses enfants   \n",
       "26   French        Diderot                                     L'oiseau blanc   \n",
       "27   French        Diderot                         Les deux amis de Bourbonne   \n",
       "28   French        Diderot             Regrets sur ma vieille robe de chambre   \n",
       "29   French           Sand                                               cora   \n",
       "30   French           Sand               Jacques le fataliste et son maa╠ètre   \n",
       "31   French           Sand                                            L' Orco   \n",
       "32   French           Sand  La Coupe; Lupo Liverani; Le Toast; Garnier; Le...   \n",
       "33   French           Sand                                        La Marquise   \n",
       "34   French           Sand                                       Le Piccinino   \n",
       "35   French           Sand                                Le poa╠éme de Myrza   \n",
       "36   French           Sand                                             Mattea   \n",
       "37   French           Sand                                            Metella   \n",
       "38   French           Sand                Oeuvres illustrC╠ºes de George Sand   \n",
       "39   French           Sand                                            Pauline   \n",
       "\n",
       "    length unique  \n",
       "8    73801  18989  \n",
       "9    40827  10831  \n",
       "10   46306  13083  \n",
       "11   66621  17875  \n",
       "12   52519  14649  \n",
       "13   51341  12945  \n",
       "14   55565  15583  \n",
       "15   35905  10725  \n",
       "16   25975   8076  \n",
       "17   34723  10210  \n",
       "18   37840  10781  \n",
       "19   33481   9983  \n",
       "20   43685  12305  \n",
       "21   40688  10890  \n",
       "22   41485  11091  \n",
       "23   54772  15028  \n",
       "24   10938   3674  \n",
       "25   11125   3720  \n",
       "26   21973   6337  \n",
       "27    8510   2929  \n",
       "28    4980   1876  \n",
       "29   12370   4370  \n",
       "30   85756  18744  \n",
       "31    8748   3162  \n",
       "32   47831  12540  \n",
       "33   14716   4786  \n",
       "34  151405  27435  \n",
       "35   12771   4348  \n",
       "36   21089   6429  \n",
       "37   19600   5715  \n",
       "38   23210   7503  \n",
       "39   27486   7901  "
      ]
     },
     "execution_count": 73,
     "metadata": {},
     "output_type": "execute_result"
    }
   ],
   "source": [
    "stats[stats.language==\"French\"]"
   ]
  },
  {
   "cell_type": "code",
   "execution_count": 77,
   "metadata": {},
   "outputs": [
    {
     "data": {
      "text/plain": [
       "[<matplotlib.lines.Line2D at 0x22ca6449e88>]"
      ]
     },
     "execution_count": 77,
     "metadata": {},
     "output_type": "execute_result"
    },
    {
     "data": {
      "image/png": "[encoded data removed]",
      "text/plain": [
       "<Figure size 432x288 with 4 Axes>"
      ]
     },
     "metadata": {
      "needs_background": "light"
     },
     "output_type": "display_data"
    }
   ],
   "source": [
    "plt.figure()\n",
    "plt.subplot(221) #221 is 2 rows 2 columns and 1 as the plot number. With 2 for rows & columns, there will be 4 suplots as below.\n",
    "plt.loglog(stats[stats.language==\"English\"].length, stats[stats.language==\"English\"].unique, \"bo\")\n",
    "plt.subplot(222)\n",
    "plt.loglog(stats[stats.language==\"French\"].length, stats[stats.language==\"French\"].unique, \"rd\")\n",
    "plt.subplot(223)\n",
    "plt.loglog(stats[stats.language==\"German\"].length, stats[stats.language==\"German\"].unique, \"gs\")\n",
    "plt.subplot(224)\n",
    "plt.loglog(stats[stats.language==\"Portuguese\"].length, stats[stats.language==\"Portuguese\"].unique, \"bd\")"
   ]
  },
  {
   "cell_type": "code",
   "execution_count": 89,
   "metadata": {},
   "outputs": [
    {
     "data": {
      "text/plain": [
       "Text(0, 0.5, 'Number of unique words')"
      ]
     },
     "execution_count": 89,
     "metadata": {},
     "output_type": "execute_result"
    },
    {
     "data": {
      "image/png": "[encoded data removed]",
      "text/plain": [
       "<Figure size 720x720 with 1 Axes>"
      ]
     },
     "metadata": {
      "needs_background": "light"
     },
     "output_type": "display_data"
    }
   ],
   "source": [
    "#OR in one graph with same scale and if u do plt.loglog here in one box all gets on one graph\n",
    "plt.figure(figsize=(10,10)) #10 by 10 figure \n",
    "plt.loglog(stats[stats.language==\"English\"].length,stats[stats.language==\"English\"].unique,\"o\",label=\"English\",color=\"crimson\")\n",
    "\n",
    "plt.loglog(stats[stats.language==\"French\"].length,stats[stats.language==\"French\"].unique,\"o\",label=\"French\",color=\"forestgreen\")\n",
    "\n",
    "plt.loglog(stats[stats.language==\"German\"].length, stats[stats.language==\"German\"].unique, \"o\", label=\"German\", color=\"orange\")\n",
    "\n",
    "plt.loglog(stats[stats.language==\"Portuguese\"].length,stats[stats.language==\"Portuguese\"].unique,\"o\",label=\"Portuguese\",color=\"blueviolet\")\n",
    "plt.legend()\n",
    "plt.xlabel(\"Book length\")\n",
    "plt.ylabel(\"Number of unique words\")"
   ]
  },
  {
   "cell_type": "code",
   "execution_count": 79,
   "metadata": {},
   "outputs": [
    {
     "data": {
      "text/plain": [
       "1       16103\n",
       "2       28551\n",
       "3       16874\n",
       "4       26590\n",
       "5       48315\n",
       "        ...  \n",
       "98     128630\n",
       "99      21440\n",
       "100    107303\n",
       "101    195771\n",
       "102     30567\n",
       "Name: length, Length: 102, dtype: object"
      ]
     },
     "execution_count": 79,
     "metadata": {},
     "output_type": "execute_result"
    }
   ],
   "source": [
    "stats.length"
   ]
  },
  {
   "cell_type": "code",
   "execution_count": 83,
   "metadata": {},
   "outputs": [
    {
     "data": {
      "text/plain": [
       "1       16103\n",
       "2       28551\n",
       "3       16874\n",
       "4       26590\n",
       "5       48315\n",
       "        ...  \n",
       "98     128630\n",
       "99      21440\n",
       "100    107303\n",
       "101    195771\n",
       "102     30567\n",
       "Name: length, Length: 102, dtype: object"
      ]
     },
     "execution_count": 83,
     "metadata": {},
     "output_type": "execute_result"
    }
   ],
   "source": [
    "stats[\"length\"]"
   ]
  },
  {
   "cell_type": "code",
   "execution_count": null,
   "metadata": {},
   "outputs": [],
   "source": []
  }
 ],
 "metadata": {
  "kernelspec": {
   "display_name": "Python 3",
   "language": "python",
   "name": "python3"
  },
  "language_info": {
   "codemirror_mode": {
    "name": "ipython",
    "version": 3
   },
   "file_extension": ".py",
   "mimetype": "text/x-python",
   "name": "python",
   "nbconvert_exporter": "python",
   "pygments_lexer": "ipython3",
   "version": "3.7.6"
  }
 },
 "nbformat": 4,
 "nbformat_minor": 4
}
